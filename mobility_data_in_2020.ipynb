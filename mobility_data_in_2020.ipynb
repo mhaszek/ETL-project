{
 "cells": [
  {
   "cell_type": "code",
   "execution_count": null,
   "metadata": {},
   "outputs": [],
   "source": [
    "import numpy as np\n",
    "import pandas as pd\n",
    "from sqlalchemy import create_engine"
   ]
  },
  {
   "cell_type": "markdown",
   "metadata": {},
   "source": [
    "# Extract csv into dataframe"
   ]
  },
  {
   "cell_type": "markdown",
   "metadata": {},
   "source": [
    "The data source is a csv file related to the movement within communities as affected by the COVID-19 pandemic. This report from Google tracked movement trends by country over time, across multiple places such as: retail & recreation, groceries & pharmacies, parks, transit stations, workplaces, and residential."
   ]
  },
  {
   "cell_type": "code",
   "execution_count": null,
   "metadata": {},
   "outputs": [],
   "source": [
    "# import and read csv\n",
    "mobility_file = \"Resources/Global_Mobility_Report.csv\"\n",
    "mobility_df = pd.read_csv(mobility_file, dtype=\"unicode\")\n",
    "mobility_df.head()"
   ]
  },
  {
   "cell_type": "markdown",
   "metadata": {},
   "source": [
    "# Transform dataframe"
   ]
  },
  {
   "cell_type": "markdown",
   "metadata": {},
   "source": [
    "A series of steps are applied to the extracted data in order to prepare it for loading into the database.\n",
    "\n",
    "From the extracted data, get the country-level mobility data only.\n",
    "\n",
    "- convert date column from object to date.\n",
    "- remove rows with dates other than year 2020.\n",
    "- retain country-level data only by removing rows with values under col 2-6.\n",
    "- delete col 0 & 2-7 (not needed).\n",
    "- convert cols percent_change_from_baselin from object dtype to integer.\n",
    "- rename columns.\n",
    "- set index to country."
   ]
  },
  {
   "cell_type": "code",
   "execution_count": null,
   "metadata": {},
   "outputs": [],
   "source": [
    "# get number of rows in the df\n",
    "print(len(mobility_df.index))"
   ]
  },
  {
   "cell_type": "code",
   "execution_count": null,
   "metadata": {},
   "outputs": [],
   "source": [
    "# get all column names and datatypes\n",
    "mobility_df.dtypes"
   ]
  },
  {
   "cell_type": "code",
   "execution_count": null,
   "metadata": {},
   "outputs": [],
   "source": [
    "# convert date into datetime format\n",
    "mobility_df['date'] = pd.to_datetime(mobility_df['date'])\n",
    "mobility_df.info()"
   ]
  },
  {
   "cell_type": "code",
   "execution_count": null,
   "metadata": {},
   "outputs": [],
   "source": [
    "# keep only 2020 mobility data\n",
    "mobility20_df = mobility_df[mobility_df['date'].dt.year == 2020]\n",
    "print(len(mobility20_df.index))"
   ]
  },
  {
   "cell_type": "code",
   "execution_count": null,
   "metadata": {
    "scrolled": false
   },
   "outputs": [],
   "source": [
    "# retain only country-level mobility data by removing rows with values under columns 2 to 6\n",
    "countries_df = mobility20_df.loc[((mobility20_df['sub_region_1'].isna()) & (mobility20_df['sub_region_2'].isna()) & (mobility20_df['metro_area'].isna()) & (mobility20_df['iso_3166_2_code'].isna()) & (mobility20_df['census_fips_code'].isna())), :]\n",
    "print(len(countries_df.index))\n",
    "countries_df.head()"
   ]
  },
  {
   "cell_type": "code",
   "execution_count": null,
   "metadata": {
    "scrolled": true
   },
   "outputs": [],
   "source": [
    "# delete columns 0, 2 to 7\n",
    "countries2_df = countries_df.drop(countries_df.loc[:, 'sub_region_1':'place_id'].columns, axis = 1)\n",
    "del countries2_df['country_region_code']\n",
    "print(len(countries2_df.index))\n",
    "countries2_df.head()"
   ]
  },
  {
   "cell_type": "code",
   "execution_count": null,
   "metadata": {},
   "outputs": [],
   "source": [
    "# columns after the date column, drop NaN\n",
    "countries3_df = countries2_df.replace(np.nan, -999)\n",
    "countries4_df = countries3_df.loc[((countries3_df.retail_and_recreation_percent_change_from_baseline != -999) & (countries3_df.grocery_and_pharmacy_percent_change_from_baseline != -999) & (countries3_df.parks_percent_change_from_baseline != -999) & (countries3_df.transit_stations_percent_change_from_baseline != -999) & (countries3_df.workplaces_percent_change_from_baseline != -999) & (countries3_df.residential_percent_change_from_baseline != -999))]\n",
    "countries4_df.info()"
   ]
  },
  {
   "cell_type": "code",
   "execution_count": null,
   "metadata": {},
   "outputs": [],
   "source": [
    "# convert percent_from_baseline columns to integer\n",
    "countries4_df.iloc[:, 2] = countries4_df['retail_and_recreation_percent_change_from_baseline'].astype(int)\n",
    "countries4_df.iloc[:, 3] = countries4_df['grocery_and_pharmacy_percent_change_from_baseline'].astype(int)\n",
    "countries4_df.iloc[:, 4] = countries4_df['parks_percent_change_from_baseline'].astype(int)\n",
    "countries4_df.iloc[:, 5] = countries4_df['transit_stations_percent_change_from_baseline'].astype(int)\n",
    "countries4_df.iloc[:, 6] = countries4_df['workplaces_percent_change_from_baseline'].astype(int)\n",
    "countries4_df.iloc[:, 7] = countries4_df['residential_percent_change_from_baseline'].astype(int)\n",
    "countries4_df.info()"
   ]
  },
  {
   "cell_type": "code",
   "execution_count": null,
   "metadata": {},
   "outputs": [],
   "source": [
    "# rename columns\n",
    "mobility_final_df = countries4_df.rename(columns = {\"country_region\":\"country\",\n",
    "                                               \"retail_and_recreation_percent_change_from_baseline\":\"retail_and_recreation\",\n",
    "                                               \"grocery_and_pharmacy_percent_change_from_baseline\":\"grocery_and_pharmacy\",\n",
    "                                               \"parks_percent_change_from_baseline\":\"parks\",\n",
    "                                               \"transit_stations_percent_change_from_baseline\":\"transit_stations\",\n",
    "                                               \"workplaces_percent_change_from_baseline\":\"workplaces\",\n",
    "                                               \"residential_percent_change_from_baseline\":\"residential\"})"
   ]
  },
  {
   "cell_type": "code",
   "execution_count": null,
   "metadata": {},
   "outputs": [],
   "source": [
    "# set Country as index\n",
    "mobility_final_df.set_index('country', inplace=True)"
   ]
  },
  {
   "cell_type": "code",
   "execution_count": null,
   "metadata": {},
   "outputs": [],
   "source": [
    "# extract dataframe to csv file\n",
    "mobility_final_df"
   ]
  },
  {
   "cell_type": "markdown",
   "metadata": {},
   "source": [
    "# Load dataframe into database"
   ]
  },
  {
   "cell_type": "code",
   "execution_count": null,
   "metadata": {},
   "outputs": [],
   "source": [
    "# create database connection\n",
    "connection_string = \"postgres:postgres@localhost:5432/country_db\"\n",
    "engine = create_engine(f'postgresql://{connection_string}')"
   ]
  },
  {
   "cell_type": "code",
   "execution_count": null,
   "metadata": {},
   "outputs": [],
   "source": [
    "# confirm tables\n",
    "engine.table_names()"
   ]
  },
  {
   "cell_type": "code",
   "execution_count": null,
   "metadata": {},
   "outputs": [],
   "source": [
    "# load dataframe into database\n",
    "mobility_final_df.to_sql(name='mobility', con=engine, if_exists='append', index=True)"
   ]
  },
  {
   "cell_type": "code",
   "execution_count": null,
   "metadata": {},
   "outputs": [],
   "source": []
  }
 ],
 "metadata": {
  "kernelspec": {
   "display_name": "Python 3",
   "language": "python",
   "name": "python3"
  },
  "language_info": {
   "codemirror_mode": {
    "name": "ipython",
    "version": 3
   },
   "file_extension": ".py",
   "mimetype": "text/x-python",
   "name": "python",
   "nbconvert_exporter": "python",
   "pygments_lexer": "ipython3",
   "version": "3.6.10"
  }
 },
 "nbformat": 4,
 "nbformat_minor": 4
}
